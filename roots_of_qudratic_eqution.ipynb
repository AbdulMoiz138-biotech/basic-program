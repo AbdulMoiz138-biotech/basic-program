{
  "nbformat": 4,
  "nbformat_minor": 0,
  "metadata": {
    "colab": {
      "provenance": [],
      "authorship_tag": "ABX9TyOVpF+zRWu/8u2mWKer/TtA"
    },
    "kernelspec": {
      "name": "python3",
      "display_name": "Python 3"
    },
    "language_info": {
      "name": "python"
    }
  },
  "cells": [
    {
      "cell_type": "code",
      "execution_count": null,
      "metadata": {
        "id": "fuL6rmbc6aWS"
      },
      "outputs": [],
      "source": [
        "a=int(input(\"enter the value of x^2\"))\n",
        "b=int(input(\"enter the value of x\"))\n",
        "c=int(input(\"enter the value of constent\"))\n",
        "\n",
        "d=(b**2)-(4*a*c)\n",
        "x1=(-b+d**0.5)/(2*a)\n",
        "x2=(-b-d**0.5)/(2*a)\n",
        "\n",
        "print(f\"The value of x is {x1} and {x2}\")\n",
        "\n"
      ]
    }
  ]
}