{
  "nbformat": 4,
  "nbformat_minor": 0,
  "metadata": {
    "colab": {
      "provenance": [],
      "authorship_tag": "ABX9TyOe1rbUD0ejtWtBZOSekSY1"
    },
    "kernelspec": {
      "name": "python3",
      "display_name": "Python 3"
    },
    "language_info": {
      "name": "python"
    }
  },
  "cells": [
    {
      "cell_type": "code",
      "execution_count": null,
      "metadata": {
        "id": "xahmlYWd6sgP"
      },
      "outputs": [],
      "source": [
        "num=int(input(\"enter the number\"))\n",
        "total=0\n",
        "while(num>0):\n",
        "  sep=num%10\n",
        "  total=total+sep\n",
        "  num=num//10\n",
        "print(total)\n"
      ]
    }
  ]
}